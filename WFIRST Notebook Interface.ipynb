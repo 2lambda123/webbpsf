{
 "cells": [
  {
   "cell_type": "markdown",
   "metadata": {},
   "source": [
    "# Calculating a PSF for WFIRST Wide Field Instrument\n",
    "\n",
    "First, we set up the notebook by importing the packages we use:\n",
    "\n",
    "*(Note: click in a cell and use **Shift + Enter** to run it)*"
   ]
  },
  {
   "cell_type": "code",
   "execution_count": null,
   "metadata": {
    "collapsed": false
   },
   "outputs": [],
   "source": [
    "%matplotlib inline\n",
    "import matplotlib\n",
    "matplotlib.rcParams['image.origin'] = 'lower'\n",
    "matplotlib.rcParams['figure.figsize'] = (16, 6)\n",
    "from matplotlib import pyplot as plt\n",
    "import numpy as np\n",
    "\n",
    "from astropy.io import fits, ascii\n",
    "\n",
    "import webbpsf\n",
    "import poppy\n",
    "import webbpsf.wfirst"
   ]
  },
  {
   "cell_type": "markdown",
   "metadata": {},
   "source": [
    "Each instrument in WebbPSF is represented as a Python `class`, and the Wide Field Instrument model is in `webbpsf.wfirst.WFI`. We need to instantiate one to work with:"
   ]
  },
  {
   "cell_type": "code",
   "execution_count": null,
   "metadata": {
    "collapsed": true
   },
   "outputs": [],
   "source": [
    "# Initialize a new Wide Field Imager model instance to configure\n",
    "wfi = webbpsf.wfirst.WFI()"
   ]
  },
  {
   "cell_type": "markdown",
   "metadata": {},
   "source": [
    "# Using the notebook interface\n",
    "\n",
    "There's a notebook-friendly interface for the Wide Field Instrument PSF model. Invoke it by running the following cell, then experiment with the different options.\n",
    "\n",
    "After you calculate a PSF, a button will appear to download your most recent calculation output in FITS format. (WebbPSF also offers tools to analyze PSFs within the notebook, which are described below under *Using the API interface*.)"
   ]
  },
  {
   "cell_type": "code",
   "execution_count": null,
   "metadata": {
    "collapsed": false
   },
   "outputs": [],
   "source": [
    "webbpsf.wfirst.show_notebook_interface(wfi)"
   ]
  },
  {
   "cell_type": "markdown",
   "metadata": {},
   "source": [
    "# Using the API interface\n",
    "\n",
    "Alternatively, you can configure the WFI instance yourself in Python. The `calcPSF` method returns a FITS HDUList (from `astropy.io.fits`), which you can write out to a file or perform further analysis on in the notebook."
   ]
  },
  {
   "cell_type": "code",
   "execution_count": null,
   "metadata": {
    "collapsed": false
   },
   "outputs": [],
   "source": [
    "# Alternatively, you can configure the WFI instance\n",
    "# yourself in Python and perform a calculation\n",
    "mono_psf = wfi.calcPSF(monochromatic=1.2e-6, display=True)"
   ]
  },
  {
   "cell_type": "markdown",
   "metadata": {},
   "source": [
    "Now you have the calculation result in the `mono_psf` variable, and can use various utility functions in WebbPSF to analyze it. The FITS object has an extension called `OVERSAMP` with each pixel split according to the default oversampling factor (4), and an extension called `DET_SAMP` with that image binned down to detector pixels."
   ]
  },
  {
   "cell_type": "code",
   "execution_count": null,
   "metadata": {
    "collapsed": false
   },
   "outputs": [],
   "source": [
    "mono_psf.info()"
   ]
  },
  {
   "cell_type": "markdown",
   "metadata": {},
   "source": [
    "Let's plot the PSF in detector pixels:"
   ]
  },
  {
   "cell_type": "code",
   "execution_count": null,
   "metadata": {
    "collapsed": false
   },
   "outputs": [],
   "source": [
    "webbpsf.display_PSF(mono_psf, ext='DET_SAMP')"
   ]
  },
  {
   "cell_type": "markdown",
   "metadata": {},
   "source": [
    "WebbPSF also includes functions for measuring EE, profiles, and centroids (described in the [WebbPSF documentation](http://pythonhosted.org/webbpsf/api_reference.html#functions) and the [POPPY documentation](http://pythonhosted.org/poppy/api.html#functions)). Below we measure the encircled energy for the monochromatic PSF:"
   ]
  },
  {
   "cell_type": "code",
   "execution_count": null,
   "metadata": {
    "collapsed": false
   },
   "outputs": [],
   "source": [
    "plt.figure(figsize=(6,3))\n",
    "webbpsf.display_EE(mono_psf)\n",
    "plt.title(\"EE for WFI @ $1.2\\mu m$\")"
   ]
  },
  {
   "cell_type": "markdown",
   "metadata": {},
   "source": [
    "If necessary, the FITS object containing the PSF can be written out to a file and downloaded to your computer."
   ]
  },
  {
   "cell_type": "code",
   "execution_count": null,
   "metadata": {
    "collapsed": false
   },
   "outputs": [],
   "source": [
    "mono_psf.writeto('./mono_psf_1.2um.fits', clobber=True)"
   ]
  },
  {
   "cell_type": "markdown",
   "metadata": {},
   "source": [
    "Files saved from the notebook (provided the working directory is unchanged) will be available at the URL `files/your_filename.fits` relative to this page.\n",
    "\n",
    "For example, view the source for this link: <a href=\"files/mono_psf_1.2um.fits\">Download mono_psf_1.2um.fits</a>\n",
    "\n",
    "# What next?\n",
    "\n",
    "Keep working in this notebook, if you like! For reference, there's always a pristine copy to refer back to in the WebbPSF GitHub repository ([mperrin/webbpsf](https://github.com/mperrin/webbpsf)).\n",
    "\n",
    "  * **Review the [WebbPSF documentation](https://pythonhosted.org/webbpsf/) and the [POPPY documentation](https://pythonhosted.org/poppy/)**\n",
    "  * **Report any issues to us on GitHub** — \n",
    "    WebbPSF and POPPY are developed on GitHub: [mperrin/webbpsf](https://github.com/mperrin/webbpsf) and [mperrin/poppy](https://github.com/mperrin/poppy) respectively.\n",
    "    The best way to report bugs is through the GitHub issue trackers: [WebbPSF](https://github.com/mperrin/webbpsf/issues) or [POPPY](https://github.com/mperrin/poppy/issues). (We also welcome pull requests from the community, if there's functionality you think should be included!)\n",
    "  * **Sign up for WebbPSF update announcements** —\n",
    "    This is entirely optional, but you may wish to sign up to the mailing list webbpsf-users@stsci.edu. This is a low-traffic moderated announce-only list, to which we will periodically post announcements of updates to this software. To subscribe, visit the [maillist.stsci.edu](http://maillist.stsci.edu) server"
   ]
  },
  {
   "cell_type": "code",
   "execution_count": null,
   "metadata": {
    "collapsed": true
   },
   "outputs": [],
   "source": []
  }
 ],
 "metadata": {
  "kernelspec": {
   "display_name": "Python 2",
   "language": "python",
   "name": "python2"
  },
  "language_info": {
   "codemirror_mode": {
    "name": "ipython",
    "version": 2
   },
   "file_extension": ".py",
   "mimetype": "text/x-python",
   "name": "python",
   "nbconvert_exporter": "python",
   "pygments_lexer": "ipython2",
   "version": "2.7.10"
  }
 },
 "nbformat": 4,
 "nbformat_minor": 0
}
