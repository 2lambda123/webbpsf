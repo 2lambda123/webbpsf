{
 "cells": [
  {
   "cell_type": "code",
   "execution_count": 1,
   "metadata": {},
   "outputs": [],
   "source": [
    "import os\n",
    "import numpy as np\n",
    "import matplotlib.pyplot as plt\n",
    "import matplotlib\n",
    "import scipy\n",
    "import astropy.table\n",
    "import astropy.io.fits as fits\n",
    "import astropy.units as u\n",
    "import logging\n",
    "import six\n",
    "\n",
    "\n",
    "\n",
    "import poppy\n",
    "import poppy.zernike as zernike\n",
    "import webbpsf\n",
    "from webbpsf import constants\n",
    "from webbpsf import utils\n",
    "\n",
    "from copy import deepcopy\n",
    "from webbpsf import optics\n",
    "from scipy import io\n"
   ]
  },
  {
   "cell_type": "code",
   "execution_count": 55,
   "metadata": {
    "collapsed": true
   },
   "outputs": [],
   "source": [
    "class OteThermalModel(object):\n",
    "    \"\"\"\n",
    "    Given a time in units of seconds, minutes, hours, or days.\n",
    "\n",
    "\n",
    "    \"\"\"\n",
    "    def __init__(self, time, npix=1024, nterms=9):\n",
    "        # Files\n",
    "        full_seg_mask_file = os.path.join(utils.get_webbpsf_data_path(), 'JWpupil_segments.fits')\n",
    "        datafile = os.path.join(utils.get_webbpsf_data_path(), 'OPD_per_seg_gn_tau_9z.fits')\n",
    "        \n",
    "        # Define shape and size of segments\n",
    "        pixelscale = 0.006526714427860697 #FIXME where does this come from??\n",
    "        self.segids = np.asarray([a[0:2] for a in constants.SEGNAMES_WSS_ORDER])\n",
    "        self.segradius = constants.JWST_SEGMENT_RADIUS / pixelscale\n",
    "        self.seg_centers_pixels = {seg[0:2]: npix/2+ np.asarray(cen)/pixelscale\n",
    "                                   for seg, cen in constants.JWST_PRIMARY_SEGMENT_CENTERS}\n",
    "\n",
    "        segment_masks = fits.getdata(full_seg_mask_file)\n",
    "        self.labeldict = {}\n",
    "        for segment in self.segids:\n",
    "            iseg = np.where(self.segids == segment)[0][0]+1  # segment index from 1 - 18\n",
    "            wseg = np.zeros_like(segment_masks)\n",
    "            wseg[segment_masks==iseg] = iseg\n",
    "            self.labeldict[segment] = wseg\n",
    "\n",
    "        # Create delta OPD from Gain and Tau terms (datafile)\n",
    "        self.npix = npix\n",
    "        self.nterms = nterms\n",
    "        self.time = OteThermalModel.convert_time(time)\n",
    "\n",
    "        gtdata = fits.getdata(datafile)                                                                    \n",
    "        self.delta_opd = self.create_full_opd(gtdata)\n",
    "\n",
    "\n",
    "    # Generic Functions\n",
    "    @staticmethod\n",
    "    def convert_time(time):\n",
    "        #FIXME make sure we know what the default should be here\n",
    "        '''\n",
    "        Pass in a given astropy units quantity with units in time (second, minute,\n",
    "        hour, day, etc). If no quantity given, assume **minutes**.\n",
    "\n",
    "        Returns a quantity with units of \"day\"\n",
    "        '''\n",
    "        try:\n",
    "            time.to(u.day)\n",
    "        except AttributeError:\n",
    "            time *= u.minute\n",
    "            time.to(u.day)\n",
    "\n",
    "        return time.value\n",
    "\n",
    "    # Create thermal opd\n",
    "\n",
    "    def define_rho_theta(self, npix, segid):\n",
    "        x = (np.arange(npix, dtype=np.float64) - self.seg_centers_pixels[segid][1]) / self.segradius\n",
    "        y = (np.arange(npix, dtype=np.float64) - self.seg_centers_pixels[segid][0]) / self.segradius\n",
    "        xx, yy = np.meshgrid(x, y)\n",
    "        rho = np.sqrt(xx ** 2 + yy ** 2)\n",
    "        theta = np.arctan2(yy, xx)\n",
    "        return rho, theta\n",
    "\n",
    "    def get_zcoeffs(self, segid, gtdata):\n",
    "        '''\n",
    "        Time in days\n",
    "        '''\n",
    "        zcoeffs = []\n",
    "        for i, (gain, tau) in enumerate(zip(gtdata[gtdata['segs'] == segid]['G_n'],\n",
    "                                          gtdata[gtdata['segs'] == segid]['tau'])):\n",
    "            if gtdata['zs' == i]:\n",
    "                zcoeffs.append(OteThermalModel.func(self.time, tau, gain))\n",
    "        return zcoeffs\n",
    "    \n",
    "        \n",
    "\n",
    "    @staticmethod\n",
    "    def func(x, tau, gn):\n",
    "        '''\n",
    "        First order thermal response function\n",
    "        '''\n",
    "        return gn*(1-np.exp(-1*(x/tau)))\n",
    "\n",
    "\n",
    "    def create_full_opd(self, gtdata):\n",
    "        '''\n",
    "        Create a full opd based on zernike information\n",
    "        '''\n",
    "        def get_basis(*args, **kwargs):\n",
    "            '''opd_from_zernikes requires a basis to be created in this way'''\n",
    "            return basis\n",
    "\n",
    "        opd_z = np.zeros((self.npix, self.npix))\n",
    "        for segid in self.segids:\n",
    "            cn = self.get_zcoeffs(segid, gtdata)\n",
    "            rho, theta = self.define_rho_theta(self.npix, segid)\n",
    "            # basis = poppy.zernike.arbitrary_basis(LABELDICT[segid] > 0.,\n",
    "            #                                       nterms=len(cn), rho=rho,\n",
    "            #                                       theta=theta)\n",
    "\n",
    "            basis = poppy.zernike.hexike_basis_wss(nterms=self.nterms, npix=self.npix,\n",
    "                                                   rho=rho, theta=theta)\n",
    "            opd_z += (poppy.zernike.opd_from_zernikes(cn, basis=get_basis,\n",
    "                                                      aperture=self.labeldict[segid] > 0.))\n",
    "        return opd_z\n"
   ]
  },
  {
   "cell_type": "code",
   "execution_count": 56,
   "metadata": {},
   "outputs": [],
   "source": [
    "time = 15*u.minute\n",
    "opd = OteThermalModel(time)"
   ]
  },
  {
   "cell_type": "code",
   "execution_count": 59,
   "metadata": {},
   "outputs": [
    {
     "data": {
      "image/png": "[encoded data removed]",
      "text/plain": [
       "<matplotlib.figure.Figure at 0x11993bf60>"
      ]
     },
     "metadata": {},
     "output_type": "display_data"
    }
   ],
   "source": [
    "plt.imshow(opd.delta_opd)\n",
    "plt.show()"
   ]
  },
  {
   "cell_type": "code",
   "execution_count": null,
   "metadata": {
    "collapsed": true
   },
   "outputs": [],
   "source": []
  }
 ],
 "metadata": {
  "kernelspec": {
   "display_name": "Python 3",
   "language": "python",
   "name": "python3"
  },
  "language_info": {
   "codemirror_mode": {
    "name": "ipython",
    "version": 3
   },
   "file_extension": ".py",
   "mimetype": "text/x-python",
   "name": "python",
   "nbconvert_exporter": "python",
   "pygments_lexer": "ipython3",
   "version": "3.5.4"
  }
 },
 "nbformat": 4,
 "nbformat_minor": 2
}
