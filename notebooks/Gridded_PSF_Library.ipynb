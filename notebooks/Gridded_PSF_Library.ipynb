{
 "cells": [
  {
   "cell_type": "markdown",
   "metadata": {},
   "source": [
    "# Creating a Gridded Library in WebbPSF with psf_grid()"
   ]
  },
  {
   "cell_type": "markdown",
   "metadata": {},
   "source": [
    "The goal was to create this method to be as similar to calc_psf() as possible for those people who already use WebbPSF (also because it then lies within the WebbPSF structure very nicely).\n",
    "\n",
    "So certain parameters are defined before the method call, and certain parameters are defined within the method call.\n",
    "\n",
    "Below is a summary:"
   ]
  },
  {
   "cell_type": "markdown",
   "metadata": {},
   "source": [
    "## Summary of Possible Parameters"
   ]
  },
  {
   "cell_type": "markdown",
   "metadata": {},
   "source": [
    "    Parameters to be set before psf_grid()\n",
    "    --------------------------------------\n",
    "    filter(s)\n",
    "        Set with: inst.filter = str\n",
    "        If you want to run all the filters - must loop through them\n",
    "    detector(s)\n",
    "        Set with: inst.detector = str\n",
    "        If you want to run 1 detector - define it like above and set the internal parameter all_detectors=False\n",
    "        If you want to run a list of detectors - must loop through them and set all_detectors=False\n",
    "        If you want to run all the detectors - set all_detectors=True\n",
    "    psf location if num_psfs=1 \n",
    "        Set with: inst.detector_position = tuple in the form (x,y)\n",
    "        Or if you want the location to be the center of the detector, set single_psf_centered=True\n",
    "    anything else from WebbPSF\n",
    "        E.g. inst.pupil_mask, inst.image_mask, inst.pupilopd, etc\n",
    "    \n",
    "    \n",
    "    \n",
    "    Parameters inside psf_grid()\n",
    "    ----------------------------\n",
    "    all_detectors: bool\n",
    "        If True, run all detectors for the instrument. If False, run for the detector set in\n",
    "        the instance. Default is True\n",
    "    use_detsampled_psf: bool\n",
    "        If True, the grid of PSFs returned will be detector sampled (made by binning down the\n",
    "        oversampled PSF). If False, the PSFs will be oversampled by the factor defined by the\n",
    "        oversample/detector_oversample/fft_oversample keywords. Default is False.\n",
    "    num_psfs: int\n",
    "        The total number of fiducial PSFs to be created and saved in the files. This\n",
    "        number must be a square number. Default is 16.\n",
    "        E.g. num_psfs = 16 will create a 4x4 grid of fiducial PSFs.\n",
    "    single_psf_centered: bool\n",
    "        If num_psfs is set to 1, this defines where that psf is located. If True it will be the\n",
    "        center of the detector, if False it will be the location defined in the WebbPSF\n",
    "        attribute detector_position (reminder - detector_position is (x,y))\n",
    "    save: bool\n",
    "        True/False boolean if you want to save your file. Default is False.\n",
    "    outfile: str\n",
    "        If \"save\" keyword is set to True, your current file will be saved under\n",
    "        \"{outfile}_det_filt.fits\". Default of None will save it in the current\n",
    "        directory as: instr_det_filt_fovp#_samp#_npsf#.fits\n",
    "    overwrite : bool\n",
    "        True/False boolean to overwrite the output file if it already exists. Default\n",
    "        is True.\n",
    "    **kwargs:\n",
    "        Add any extra arguments to the WebbPSF calc_psf() method call. This includes\n",
    "        the following kwargs (and their default values): source(=None), nlambda(=None),\n",
    "        monochromatic(=None), fov_arcsec(=None), fov_pixels(=101), oversample(=4),\n",
    "        detector_oversample(=None), fft_oversample(=None), normalize(='first'),\n",
    "        add_distortion(=True), and crop_psf(=True)\n"
   ]
  },
  {
   "cell_type": "markdown",
   "metadata": {},
   "source": [
    "## Example Uses"
   ]
  },
  {
   "cell_type": "code",
   "execution_count": null,
   "metadata": {
    "collapsed": true
   },
   "outputs": [],
   "source": [
    "import webbpsf"
   ]
  },
  {
   "cell_type": "markdown",
   "metadata": {},
   "source": [
    "### Create a Full Library for 1 Filter and All Detectors"
   ]
  },
  {
   "cell_type": "markdown",
   "metadata": {},
   "source": [
    "This has all_detectors default to True because we expect this to be the normal use case"
   ]
  },
  {
   "cell_type": "code",
   "execution_count": null,
   "metadata": {},
   "outputs": [
    {
     "name": "stdout",
     "output_type": "stream",
     "text": [
      "\n",
      "Starting filter: F090W\n",
      "  Running detector: NRCA1\n",
      "  Running detector: NRCA2\n"
     ]
    }
   ],
   "source": [
    "nir = webbpsf.NIRCam()\n",
    "nir.filter = \"F090W\"\n",
    "nir.psf_grid(all_detectors=True)"
   ]
  },
  {
   "cell_type": "markdown",
   "metadata": {},
   "source": [
    "### Create a Library for 1 Filter and 1 Detector"
   ]
  },
  {
   "cell_type": "code",
   "execution_count": null,
   "metadata": {
    "collapsed": true
   },
   "outputs": [],
   "source": [
    "nir = webbpsf.NIRCam()\n",
    "nir.filter = \"F090W\"\n",
    "nir.detector = \"NRCA2\"\n",
    "nir.psf_grid(all_detectors=False)"
   ]
  },
  {
   "cell_type": "markdown",
   "metadata": {},
   "source": [
    "### Want multiple filters? Will loop through them"
   ]
  },
  {
   "cell_type": "code",
   "execution_count": null,
   "metadata": {
    "collapsed": true
   },
   "outputs": [],
   "source": [
    "nir = webbpsf.NIRCam()\n",
    "for filt in nir.filter_list:\n",
    "    nir.filter = filt\n",
    "    nir.psf_grid(all_detectors=True)"
   ]
  },
  {
   "cell_type": "markdown",
   "metadata": {},
   "source": [
    "### Set the number of PSFs"
   ]
  },
  {
   "cell_type": "markdown",
   "metadata": {},
   "source": [
    "Use num_psfs to set the size of the grid. num_psfs = 4 means you'll have a 2x2 grid. Default for now is 16"
   ]
  },
  {
   "cell_type": "code",
   "execution_count": null,
   "metadata": {
    "collapsed": true
   },
   "outputs": [],
   "source": [
    "nir = webbpsf.NIRCam()\n",
    "nir.filter = \"F090W\"\n",
    "nir.psf_grid(all_detectors=True, num_psfs=4)"
   ]
  },
  {
   "cell_type": "markdown",
   "metadata": {},
   "source": [
    "### If num_psfs = 1 -> set the location of the PSF with detector_position attribute"
   ]
  },
  {
   "cell_type": "markdown",
   "metadata": {},
   "source": [
    "If single_psf_centered = True, then the single PSF will be at the center of the detector. If it's False, then the location of the PSF is pulled from the detector_position attribute\n",
    "\n",
    "I don't forsee this being of huge use, but it's good to cover the option"
   ]
  },
  {
   "cell_type": "code",
   "execution_count": null,
   "metadata": {
    "collapsed": true
   },
   "outputs": [],
   "source": [
    "nir = webbpsf.NIRCam()\n",
    "nir.filter = \"F090W\"\n",
    "nir.detector_position = (10,10) # (x,y)\n",
    "nir.psf_grid(all_detectors=True, num_psfs=1, single_psf_centered=False)"
   ]
  },
  {
   "cell_type": "markdown",
   "metadata": {},
   "source": [
    "### Setting other things before the psf_grid() method call"
   ]
  },
  {
   "cell_type": "markdown",
   "metadata": {},
   "source": [
    "Anything you can set in WebbPSF can be applied here. For example, say you want to use a differend OPD, your own OPD with mirror moves in it, a pupil mask or an image mask, etc:"
   ]
  },
  {
   "cell_type": "code",
   "execution_count": null,
   "metadata": {
    "collapsed": true
   },
   "outputs": [],
   "source": [
    "nir = webbpsf.NIRCam()\n",
    "nir.filter = \"F090W\"\n",
    "\n",
    "# Setting extra things:\n",
    "nir.pupilopd = ('OPD_RevW_ote_for_NIRCam_predicted.fits.gz', 7)\n",
    "nir.pupil_mask = \"WEAK LENS +4\"\n",
    "\n",
    "nir.psf_grid(all_detectors=True)"
   ]
  },
  {
   "cell_type": "markdown",
   "metadata": {},
   "source": [
    "## Questions for The Group:"
   ]
  },
  {
   "cell_type": "markdown",
   "metadata": {},
   "source": [
    "* File naming/saving -> What kind of options do we want people to have?\n",
    "* Any case where users will want to use the detector-sampled PSF\n",
    "* Default values (both in the CreatePSFLibrary class and the psf_grid method)"
   ]
  },
  {
   "cell_type": "markdown",
   "metadata": {},
   "source": [
    "### File Saving/Naming"
   ]
  },
  {
   "cell_type": "markdown",
   "metadata": {},
   "source": [
    "The main problem:\n",
    "* In the case of NIRCam: when you run this method for all_detectors=True, it loops through a bunch of detectors, saving them one by one. So you can't pass 1 full output filename to the method because it would be saving multiple files as the same name (and thus overwritting them)\n",
    "* So I've been thinking about different ways to let users save their files:\n",
    "    * A default name with lots of information based on the inputs (filt, det, num_psfs, etc), but that requires a default location too: current directory?\n",
    "    * Let people put in their own path and the start of the name they want, but the name will have qualifying information appended to the end to keep the different detector names seperate?\n",
    "\n",
    "Right now it looks like:"
   ]
  },
  {
   "cell_type": "code",
   "execution_count": null,
   "metadata": {
    "collapsed": true
   },
   "outputs": [],
   "source": [
    "# Don't save\n",
    "nir.psf_grid(save=False)\n",
    "\n",
    "# Save with your own name\n",
    "nir.psf_grid(save=True, outfile=\"/path/to/file/start_of_name\") # start_of_name_{det}_{filt}.fits\n",
    "\n",
    "# Save with the default name\n",
    "nir.psf_grid(save=True, outfile=None) # {instr}_{det}_{filt}_fovp{#}_samp{#}_npsf{#}.fits"
   ]
  },
  {
   "cell_type": "markdown",
   "metadata": {},
   "source": [
    "### Detector-sampled PSF"
   ]
  },
  {
   "cell_type": "markdown",
   "metadata": {},
   "source": [
    "Is there a case where users would want a grid of detector-sampled PSFs? I currently have the base set up to include this, but I want to check if it'll be needed before I finish setting it up.\n",
    "\n",
    "It would look like:"
   ]
  },
  {
   "cell_type": "code",
   "execution_count": null,
   "metadata": {
    "collapsed": true
   },
   "outputs": [],
   "source": [
    "nir = webbpsf.NIRCam()\n",
    "nir.filter = \"F090W\"\n",
    "nir.psf_grid(use_detsampled_psf=True)"
   ]
  },
  {
   "cell_type": "markdown",
   "metadata": {},
   "source": [
    "### Default Values"
   ]
  },
  {
   "cell_type": "markdown",
   "metadata": {},
   "source": [
    "Do we need to change any of these values?\n",
    "\n",
    "Right now the default values are:"
   ]
  },
  {
   "cell_type": "code",
   "execution_count": null,
   "metadata": {
    "collapsed": true
   },
   "outputs": [],
   "source": [
    "all_detectors: True\n",
    "use_detsampled_psf: False\n",
    "num_psfs: 16\n",
    "single_psf_centered: True\n",
    "save: False\n",
    "outfile: None # will save to current directory with default naming -instr_det_filt_fovp{}_samp{}_npsf{}.fits\n",
    "overwrite : True\n",
    "\n",
    "calc_psf kwargs:\n",
    "source: None\n",
    "nlambda: None\n",
    "monochromatic: None\n",
    "fov_arcsec: None\n",
    "fov_pixels: 101\n",
    "oversample: 4\n",
    "detector_oversample: None\n",
    "fft_oversample: None\n",
    "normalize: 'first'\n",
    "add_distortion: True\n",
    "crop_psf: True"
   ]
  },
  {
   "cell_type": "markdown",
   "metadata": {},
   "source": [
    "### Any other concerns?"
   ]
  },
  {
   "cell_type": "markdown",
   "metadata": {},
   "source": []
  }
 ],
 "metadata": {
  "kernelspec": {
   "display_name": "Python 3",
   "language": "python",
   "name": "python3"
  },
  "language_info": {
   "codemirror_mode": {
    "name": "ipython",
    "version": 3
   },
   "file_extension": ".py",
   "mimetype": "text/x-python",
   "name": "python",
   "nbconvert_exporter": "python",
   "pygments_lexer": "ipython3",
   "version": "3.5.4"
  }
 },
 "nbformat": 4,
 "nbformat_minor": 2
}
